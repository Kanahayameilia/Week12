{
  "nbformat": 4,
  "nbformat_minor": 0,
  "metadata": {
    "colab": {
      "provenance": []
    },
    "kernelspec": {
      "name": "python3",
      "display_name": "Python 3"
    },
    "language_info": {
      "name": "python"
    }
  },
  "cells": [
    {
      "cell_type": "code",
      "execution_count": null,
      "metadata": {
        "id": "e-eqVNWmrWR-"
      },
      "outputs": [],
      "source": []
    },
    {
      "cell_type": "markdown",
      "source": [
        "Python Try Except\n",
        "Blok ini trymemungkinkan Anda menguji blok kode untuk menemukan kesalahan.\n",
        "\n",
        "Blok ini exceptmemungkinkan Anda menangani kesalahan.\n",
        "\n",
        "Blok ini elsememungkinkan Anda mengeksekusi kode tanpa kesalahan.\n",
        "\n",
        "Blok ini finallymemungkinkan Anda mengeksekusi kode, apa pun hasil dari blok try dan except."
      ],
      "metadata": {
        "id": "3xFIYJ5CsXlA"
      }
    },
    {
      "cell_type": "markdown",
      "source": [
        "Penanganan Pengecualian\n",
        "Ketika terjadi kesalahan, atau pengecualian sebagaimana kita menyebutnya, Python biasanya akan berhenti dan menghasilkan pesan kesalahan.\n",
        "\n",
        "Pengecualian ini dapat ditangani menggunakan pernyataan try:"
      ],
      "metadata": {
        "id": "EeIOw2x-sgU4"
      }
    },
    {
      "cell_type": "code",
      "source": [
        "try:\n",
        "  print(x)\n",
        "except:\n",
        "  print(\"Gaada, balik ga\")"
      ],
      "metadata": {
        "colab": {
          "base_uri": "https://localhost:8080/"
        },
        "id": "1QeFNPeqsrCI",
        "outputId": "dc3f0e98-6207-462c-cc38-a74805f4fc23"
      },
      "execution_count": 1,
      "outputs": [
        {
          "output_type": "stream",
          "name": "stdout",
          "text": [
            "Gaada, balik ga\n"
          ]
        }
      ]
    },
    {
      "cell_type": "markdown",
      "source": [
        "Banyaknya Pengecualian\n",
        "Anda dapat menentukan blok pengecualian sebanyak yang Anda inginkan, misalnya jika Anda ingin menjalankan blok kode khusus untuk jenis kesalahan khusus:"
      ],
      "metadata": {
        "id": "vLGlZTe_s3Wv"
      }
    },
    {
      "cell_type": "code",
      "source": [
        "#Contoh\n",
        "\n",
        "try:\n",
        "  print(x)\n",
        "except NameError:\n",
        "  print(\"Gaada X, coba lagi\")\n",
        "except:\n",
        "  print(\"Dibilang gaada\")"
      ],
      "metadata": {
        "colab": {
          "base_uri": "https://localhost:8080/"
        },
        "id": "f1m_3upcs_5H",
        "outputId": "011f3abd-332b-4ef8-da71-c8bfc807d187"
      },
      "execution_count": 2,
      "outputs": [
        {
          "output_type": "stream",
          "name": "stdout",
          "text": [
            "Gaada X, coba lagi\n"
          ]
        }
      ]
    },
    {
      "cell_type": "markdown",
      "source": [
        "Else\n",
        "Anda dapat menggunakan elsekata kunci untuk menentukan blok kode yang akan dieksekusi jika tidak ada kesalahan yang muncul:"
      ],
      "metadata": {
        "id": "9WHSRELNtJGW"
      }
    },
    {
      "cell_type": "code",
      "source": [
        "#Contoh\n",
        "\n",
        "try:\n",
        "  print(\"Hello\")\n",
        "except:\n",
        "  print(\"Ga nemu\")\n",
        "else:\n",
        "  print(\"Gausa bandel, dibilang gaada juga\")"
      ],
      "metadata": {
        "colab": {
          "base_uri": "https://localhost:8080/"
        },
        "id": "DtAnZkfRtN-e",
        "outputId": "ce7569f7-9cf9-4f4a-b1f6-2e2c8c6ac63b"
      },
      "execution_count": 3,
      "outputs": [
        {
          "output_type": "stream",
          "name": "stdout",
          "text": [
            "Hello\n",
            "Gausa bandel, dibilang gaada juga\n"
          ]
        }
      ]
    },
    {
      "cell_type": "markdown",
      "source": [
        "Finally\n",
        "Blok tersebut finally, jika ditentukan, akan dieksekusi tanpa mempedulikan apakah blok try menimbulkan kesalahan atau tidak."
      ],
      "metadata": {
        "id": "0h0HQRRrtdF3"
      }
    },
    {
      "cell_type": "code",
      "source": [
        "#Contoh\n",
        "\n",
        "try:\n",
        "  print(x)\n",
        "except:\n",
        "  print(\"Ada yang salah!!!\")\n",
        "finally:\n",
        "  print(\"Yaudah gaada yg salah\")"
      ],
      "metadata": {
        "colab": {
          "base_uri": "https://localhost:8080/"
        },
        "id": "XG9V5ruNtgMP",
        "outputId": "bb03c526-c0c4-465f-9954-a35e936c4014"
      },
      "execution_count": 4,
      "outputs": [
        {
          "output_type": "stream",
          "name": "stdout",
          "text": [
            "Ada yang salah!!!\n",
            "Yaudah gaada yg salah\n"
          ]
        }
      ]
    },
    {
      "cell_type": "markdown",
      "source": [
        "Raise an exception atau Ajukan Pengecualian\n",
        "Sebagai pengembang Python, Anda dapat memilih untuk mengeluarkan pengecualian jika suatu kondisi terjadi.\n",
        "\n",
        "Untuk memunculkan (atau menimbulkan) pengecualian, gunakan raisekata kunci."
      ],
      "metadata": {
        "id": "IsgOJIcNtzDY"
      }
    },
    {
      "cell_type": "code",
      "source": [
        "#Contoh\n",
        "#Timbulkan kesalahan dan hentikan program jika x lebih rendah dari 0:\n",
        "\n",
        "x = -1\n",
        "\n",
        "if x < 0:\n",
        "  raise Exception(\"Gaada angka dibawah 0\")"
      ],
      "metadata": {
        "colab": {
          "base_uri": "https://localhost:8080/",
          "height": 176
        },
        "id": "XD4DU6Cat6Vf",
        "outputId": "721ce4a5-a0d2-4650-db04-efb39541b482"
      },
      "execution_count": 5,
      "outputs": [
        {
          "output_type": "error",
          "ename": "Exception",
          "evalue": "Gaada angka dibawah 0",
          "traceback": [
            "\u001b[0;31m---------------------------------------------------------------------------\u001b[0m",
            "\u001b[0;31mException\u001b[0m                                 Traceback (most recent call last)",
            "\u001b[0;32m<ipython-input-5-05bc1db6b0c3>\u001b[0m in \u001b[0;36m<cell line: 5>\u001b[0;34m()\u001b[0m\n\u001b[1;32m      4\u001b[0m \u001b[0;34m\u001b[0m\u001b[0m\n\u001b[1;32m      5\u001b[0m \u001b[0;32mif\u001b[0m \u001b[0mx\u001b[0m \u001b[0;34m<\u001b[0m \u001b[0;36m0\u001b[0m\u001b[0;34m:\u001b[0m\u001b[0;34m\u001b[0m\u001b[0;34m\u001b[0m\u001b[0m\n\u001b[0;32m----> 6\u001b[0;31m   \u001b[0;32mraise\u001b[0m \u001b[0mException\u001b[0m\u001b[0;34m(\u001b[0m\u001b[0;34m\"Gaada angka dibawah 0\"\u001b[0m\u001b[0;34m)\u001b[0m\u001b[0;34m\u001b[0m\u001b[0;34m\u001b[0m\u001b[0m\n\u001b[0m",
            "\u001b[0;31mException\u001b[0m: Gaada angka dibawah 0"
          ]
        }
      ]
    },
    {
      "cell_type": "markdown",
      "source": [
        "Kata raisekunci digunakan untuk memunculkan pengecualian.\n",
        "\n",
        "Anda dapat menentukan jenis kesalahan yang akan muncul, dan teks yang akan dicetak kepada pengguna."
      ],
      "metadata": {
        "id": "HbTWVJGHuILH"
      }
    },
    {
      "cell_type": "code",
      "source": [
        "#Contoh\n",
        "#Timbulkan TypeError jika x bukan bilangan bulat:\n",
        "\n",
        "x = \"hello\"\n",
        "\n",
        "if not type(x) is int:\n",
        "  raise TypeError(\"Only integers are allowed\")"
      ],
      "metadata": {
        "colab": {
          "base_uri": "https://localhost:8080/",
          "height": 176
        },
        "id": "iBKRX0U-uQAQ",
        "outputId": "9dff097e-7d4f-47f1-b6b0-897eaaaf37d1"
      },
      "execution_count": 6,
      "outputs": [
        {
          "output_type": "error",
          "ename": "TypeError",
          "evalue": "Only integers are allowed",
          "traceback": [
            "\u001b[0;31m---------------------------------------------------------------------------\u001b[0m",
            "\u001b[0;31mTypeError\u001b[0m                                 Traceback (most recent call last)",
            "\u001b[0;32m<ipython-input-6-a20a2f57f9ff>\u001b[0m in \u001b[0;36m<cell line: 5>\u001b[0;34m()\u001b[0m\n\u001b[1;32m      4\u001b[0m \u001b[0;34m\u001b[0m\u001b[0m\n\u001b[1;32m      5\u001b[0m \u001b[0;32mif\u001b[0m \u001b[0;32mnot\u001b[0m \u001b[0mtype\u001b[0m\u001b[0;34m(\u001b[0m\u001b[0mx\u001b[0m\u001b[0;34m)\u001b[0m \u001b[0;32mis\u001b[0m \u001b[0mint\u001b[0m\u001b[0;34m:\u001b[0m\u001b[0;34m\u001b[0m\u001b[0;34m\u001b[0m\u001b[0m\n\u001b[0;32m----> 6\u001b[0;31m   \u001b[0;32mraise\u001b[0m \u001b[0mTypeError\u001b[0m\u001b[0;34m(\u001b[0m\u001b[0;34m\"Only integers are allowed\"\u001b[0m\u001b[0;34m)\u001b[0m\u001b[0;34m\u001b[0m\u001b[0;34m\u001b[0m\u001b[0m\n\u001b[0m",
            "\u001b[0;31mTypeError\u001b[0m: Only integers are allowed"
          ]
        }
      ]
    },
    {
      "cell_type": "markdown",
      "source": [
        "weekly Exercise 1\n",
        "\n",
        "Pada program perhitungan bangun datar tugas sebelumnya, berikan Exception Handling:\n",
        "\n",
        "a. Jika user lupa memasukkan nilai atau kosong maka akan muncul keterangan \"tidak boleh kosong\"\n",
        "\n",
        "b. Jika karakter yang diinputkan user bukan integer maka akan muncul error \"hanya boleh memasukkan angka\""
      ],
      "metadata": {
        "id": "dfOlK3nXuXfP"
      }
    },
    {
      "cell_type": "code",
      "source": [
        "import math\n",
        "\n",
        "try:\n",
        "    radius_input = input(\"Masukkan jari-jari lingkaran: \")\n",
        "    radius = float(radius_input)\n",
        "    luas_lingkaran = math.pi * (radius ** 2)\n",
        "    print(\"Luas Lingkaran: \", luas_lingkaran)\n",
        "except ValueError as e:\n",
        "    print(\"Error:\", e)\n",
        "except TypeError as e:\n",
        "    print(\"Error:\", e)"
      ],
      "metadata": {
        "colab": {
          "base_uri": "https://localhost:8080/"
        },
        "id": "jGw-3uY6wWKv",
        "outputId": "f713ab69-0a65-4ba5-d266-b5c57749937d"
      },
      "execution_count": 6,
      "outputs": [
        {
          "output_type": "stream",
          "name": "stdout",
          "text": [
            "Masukkan jari-jari lingkaran: \n",
            "Error: could not convert string to float: ''\n"
          ]
        }
      ]
    },
    {
      "cell_type": "markdown",
      "source": [
        "Weekly excercise2\n",
        "Pada program yang anda buat saat UTS berikan Exception Handling"
      ],
      "metadata": {
        "id": "nfDEWwiIwjku"
      }
    },
    {
      "cell_type": "code",
      "source": [
        "try:\n",
        "    NPM = input(\"Masukkan NPM: \")\n",
        "    if not NPM:\n",
        "        raise ValueError(\"NPM tidak boleh kosong\")\n",
        "    if not NPM.isdigit():\n",
        "        raise TypeError(\"NPM hanya boleh berisi angka\")\n",
        "\n",
        "    bilangan_genap = sum(1 for digit in NPM if int(digit) % 2 == 0)\n",
        "    bilangan_ganjil = len(NPM) - bilangan_genap\n",
        "\n",
        "    print(\"NPM Anda adalah:\", NPM)\n",
        "    print(\"Jumlah bilangan genap:\", bilangan_genap)\n",
        "    print(\"Jumlah bilangan ganjil:\", bilangan_ganjil)\n",
        "\n",
        "except (ValueError, TypeError) as e:\n",
        "    print(\"Error:\", e)"
      ],
      "metadata": {
        "colab": {
          "base_uri": "https://localhost:8080/"
        },
        "id": "z-XsV1G0xwGf",
        "outputId": "773b8bb6-668c-4b28-978d-be5918473c31"
      },
      "execution_count": 9,
      "outputs": [
        {
          "output_type": "stream",
          "name": "stdout",
          "text": [
            "Masukkan NPM: kanaa\n",
            "NPM Anda adalah:  kanaa\n",
            "Error: NPM hanya boleh berisi angka\n"
          ]
        }
      ]
    }
  ]
}